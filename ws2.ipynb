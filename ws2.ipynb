{
 "cells": [
  {
   "cell_type": "code",
   "execution_count": 193,
   "metadata": {},
   "outputs": [],
   "source": [
    "import requests\n",
    "from bs4 import BeautifulSoup"
   ]
  },
  {
   "cell_type": "code",
   "execution_count": 194,
   "metadata": {},
   "outputs": [],
   "source": [
    "r = requests.get('https://timesofindia.indiatimes.com/news')"
   ]
  },
  {
   "cell_type": "code",
   "execution_count": 195,
   "metadata": {},
   "outputs": [],
   "source": [
    "soup = BeautifulSoup(r.text,'html.parser')"
   ]
  },
  {
   "cell_type": "markdown",
   "metadata": {},
   "source": [
    "latest_news = [\n",
    "{\"title\" : text,\n",
    "\"disc\" : desc,\n",
    "\"news_link\" : link}\n",
    "] "
   ]
  },
  {
   "cell_type": "code",
   "execution_count": 196,
   "metadata": {},
   "outputs": [],
   "source": [
    "s = soup.find_all('a',{\"class\" : \"w_img\"})"
   ]
  },
  {
   "cell_type": "code",
   "execution_count": 205,
   "metadata": {},
   "outputs": [
    {
     "data": {
      "text/plain": [
       "[<a class=\"w_img\" href=\"/entertainment/hindi/bollywood/news/highlights-of-rhea-chakrabortys-bail-order/photostory/78534006.cms\" pg=\"-entertainment/hindi/bollywood/news#Photo_View-1-geturl\" title=\"Highlights of Rhea Chakraborty’s bail order\"><img alt=\"Highlights of Rhea Chakraborty’s bail order\" data-src=\"https://static.toiimg.com/photo/78534006.cms\" pg=\"-entertainment/hindi/bollywood/news#Photo_View-1-geturl\" src=\"https://static.toiimg.com/photo/34824568.cms\"/></a>,\n",
       " <a class=\"w_img\" href=\"/entertainment/hindi/bollywood/news/payal-ghosh-to-tender-apology-and-withdraw-statement-against-richa-chadha/articleshow/78533878.cms\" pg=\"-entertainment/hindi/bollywood/news#Story_View-2-geturl\" title=\"Payal to withdraw statement against Richa\"><img alt=\"Payal to withdraw statement against Richa\" data-src=\"https://static.toiimg.com/thumb/imgsize-739700,msid-78533900,width-150,resizemode-4/78533900.jpg\" pg=\"-entertainment/hindi/bollywood/news#Story_View-2-geturl\" src=\"https://static.toiimg.com/photo/34824568.cms\"/></a>,\n",
       " <a class=\"w_img\" href=\"/entertainment/hindi/bollywood/news/neeraj-kabi-exclusive-how-i-made-it/articleshow/78527260.cms\" pg=\"-entertainment/hindi/bollywood/news#Story_View-3-geturl\" title=\"Neeraj Kabi: Still fighting for remuneration\"><img alt=\"Neeraj Kabi: Still fighting for remuneration\" data-src=\"https://static.toiimg.com/thumb/imgsize-119683,msid-78530010,width-150,resizemode-4/78530010.jpg\" pg=\"-entertainment/hindi/bollywood/news#Story_View-3-geturl\" src=\"https://static.toiimg.com/photo/34824568.cms\"/></a>,\n",
       " <a class=\"w_img\" href=\"/entertainment/hindi/bollywood/news/9-conditions-pronounced-for-rhea-chakraborty-by-the-high-court-while-granting-her-bail-in-drugs-case/articleshow/78532432.cms\" pg=\"-entertainment/hindi/bollywood/news#Story_View-4-geturl\" title=\"9 conditions pronounced for Rhea by the HC\"><img alt=\"9 conditions pronounced for Rhea by the HC\" data-src=\"https://static.toiimg.com/thumb/imgsize-507958,msid-78532442,width-150,resizemode-4/78532442.jpg\" pg=\"-entertainment/hindi/bollywood/news#Story_View-4-geturl\" src=\"https://static.toiimg.com/photo/34824568.cms\"/></a>,\n",
       " <a class=\"w_img\" href=\"/entertainment/hindi/bollywood/news/swara-bhasker-takes-an-indirect-dig-at-kangana-ranauts-padma-shri-statement-after-aiims-rules-out-murder-in-sushant-singh-rajputs-case/articleshow/78531976.cms\" pg=\"-entertainment/hindi/bollywood/news#Story_View-5-geturl\" title=\"Swara takes an indirect dig at Kangana\"><img alt=\"Swara takes an indirect dig at Kangana\" data-src=\"https://static.toiimg.com/thumb/imgsize-996422,msid-78531952,width-150,resizemode-4/78531952.jpg\" pg=\"-entertainment/hindi/bollywood/news#Story_View-5-geturl\" src=\"https://static.toiimg.com/photo/34824568.cms\"/></a>,\n",
       " <a class=\"w_img\" href=\"/business/india-business/at-41-million-real-time-transactions-a-day-india-leads-the-world-report/articleshow/78534784.cms\" pg=\"-business/india-business#Story_View-1-geturl\" title=\"At 41 million real-time transactions a day, India leads the world: Report\"><img alt=\"At 41 million real-time transactions a day, India leads the world: Report\" data-src=\"https://static.toiimg.com/thumb/imgsize-404212,msid-78534763,width-150,resizemode-4/78534763.jpg\" pg=\"-business/india-business#Story_View-1-geturl\" src=\"https://static.toiimg.com/photo/34824568.cms\"/></a>,\n",
       " <a class=\"w_img\" href=\"/business/india-business/states-market-borrowings-jump-55-to-rs-3-75-lakh-crore-so-far-this-fiscal/articleshow/78534277.cms\" pg=\"-business/india-business#Story_View-2-geturl\" title=\"States' mkt borrowings jump 55% to Rs 3.75 lakh crore\"><img alt=\"States' mkt borrowings jump 55% to Rs 3.75 lakh crore\" data-src=\"https://static.toiimg.com/thumb/imgsize-50814,msid-78534262,width-150,resizemode-4/78534262.jpg\" pg=\"-business/india-business#Story_View-2-geturl\" src=\"https://static.toiimg.com/photo/34824568.cms\"/></a>,\n",
       " <a class=\"w_img\" href=\"/business/india-business/sensex-rallies-304-points-nifty-ends-above-11700/articleshow/78532545.cms\" pg=\"-business/india-business#Story_View-3-geturl\" title=\"Sensex rallies 304 points; Nifty ends above 11,700\"><img alt=\"Sensex rallies 304 points; Nifty ends above 11,700\" data-src=\"https://static.toiimg.com/thumb/imgsize-88430,msid-78533266,width-150,resizemode-4/78533266.jpg\" pg=\"-business/india-business#Story_View-3-geturl\" src=\"https://static.toiimg.com/photo/34824568.cms\"/></a>,\n",
       " <a class=\"w_img\" href=\"/business/india-business/banks-say-governments-interest-waiver-will-add-to-costs-spark-litigation/articleshow/78530227.cms\" pg=\"-business/india-business#Story_View-4-geturl\" title=\"Banks say interest waiver will add to costs, spark litigation\"><img alt=\"Banks say interest waiver will add to costs, spark litigation\" data-src=\"https://static.toiimg.com/thumb/imgsize-81416,msid-78533608,width-150,resizemode-4/78533608.jpg\" pg=\"-business/india-business#Story_View-4-geturl\" src=\"https://static.toiimg.com/photo/34824568.cms\"/><i class=\"iconvideo\"></i></a>,\n",
       " <a class=\"w_img\" href=\"/business/international-business/h-1b-visas-should-be-reserved-only-for-specialised-talent-to-support-strong-economy-white-house/articleshow/78531537.cms\" pg=\"-business/international-business#Story_View-5-geturl\" title=\"H-1B visas only for 'specialised talent': White House\"><img alt=\"H-1B visas only for 'specialised talent': White House\" data-src=\"https://static.toiimg.com/thumb/imgsize-128807,msid-78531584,width-150,resizemode-4/78531584.jpg\" pg=\"-business/international-business#Story_View-5-geturl\" src=\"https://static.toiimg.com/photo/34824568.cms\"/></a>,\n",
       " <a class=\"w_img\" href=\"/tv/news/hindi/new-bride-niti-taylor-shares-a-throwback-video-from-her-mehendi-ceremony-watch/articleshow/78534122.cms\" pg=\"-tv/news/hindi#Story_View-1-geturl\" title=\"Watch Niti Taylor's Mehendi ceremony\"><img alt=\"Watch Niti Taylor's Mehendi ceremony\" data-src=\"https://static.toiimg.com/thumb/imgsize-155909,msid-78534276,width-150,resizemode-4/78534276.jpg\" pg=\"-tv/news/hindi#Story_View-1-geturl\" src=\"https://static.toiimg.com/photo/34824568.cms\"/></a>,\n",
       " <a class=\"w_img\" href=\"/tv/news/hindi/mukesh-khanna-hits-out-at-yudhishtir-gajendra-chauhan-asks-how-can-you-compare-mahabharat-to-the-kapil-sharma-show/articleshow/78534253.cms\" pg=\"-tv/news/hindi#Story_View-2-geturl\" title=\"Mukesh Khanna lashes out at Gajendra Chauhan\"><img alt=\"Mukesh Khanna lashes out at Gajendra Chauhan\" data-src=\"https://static.toiimg.com/thumb/imgsize-161563,msid-78534307,width-150,resizemode-4/78534307.jpg\" pg=\"-tv/news/hindi#Story_View-2-geturl\" src=\"https://static.toiimg.com/photo/34824568.cms\"/></a>,\n",
       " <a class=\"w_img\" href=\"/tv/news/hindi/did-you-know-neha-kakars-rumoured-fiance-rohanpreet-singh-was-shehnaz-gills-suitor-in-mujhse-shaadi-karoge/articleshow/78532624.cms\" pg=\"-tv/news/hindi#Story_View-3-geturl\" title=\"Was Rohanpreet Singh Shehnaz's suitor in MSK?\"><img alt=\"Was Rohanpreet Singh Shehnaz's suitor in MSK?\" data-src=\"https://static.toiimg.com/thumb/imgsize-565125,msid-78532712,width-150,resizemode-4/78532712.jpg\" pg=\"-tv/news/hindi#Story_View-3-geturl\" src=\"https://static.toiimg.com/photo/34824568.cms\"/></a>,\n",
       " <a class=\"w_img\" href=\"/tv/news/hindi/bigg-boss-14-pavitra-punia-hits-nikki-tamboli-with-a-tray-after-she-ruins-her-game-during-immunity-task/articleshow/78532198.cms\" pg=\"-tv/news/hindi#Story_View-4-geturl\" title=\"BB14: Pavitra hits Nikki during immunity task\"><img alt=\"BB14: Pavitra hits Nikki during immunity task\" data-src=\"https://static.toiimg.com/thumb/imgsize-202653,msid-78532233,width-150,resizemode-4/78532233.jpg\" pg=\"-tv/news/hindi#Story_View-4-geturl\" src=\"https://static.toiimg.com/photo/34824568.cms\"/></a>,\n",
       " <a class=\"w_img\" href=\"/tv/news/hindi/bigg-boss-11s-sapna-chaudhary-blessed-with-a-baby-boy-husband-veer-sahu-abuses-those-judging-his-wifes-character/articleshow/78530131.cms\" pg=\"-tv/news/hindi#Story_View-5-geturl\" title=\"Sapna Chaudhary blessed with a baby boy\"><img alt=\"Sapna Chaudhary blessed with a baby boy\" data-src=\"https://static.toiimg.com/thumb/imgsize-811236,msid-78528626,width-150,resizemode-4/78528626.jpg\" pg=\"-tv/news/hindi#Story_View-5-geturl\" src=\"https://static.toiimg.com/photo/34824568.cms\"/><i class=\"iconvideo\"></i></a>,\n",
       " <a class=\"w_img\" href=\"/sports/cricket/ipl/top-stories/ipl-2020-kkr-need-to-rejig-batting-order-as-they-take-on-csk/articleshow/78526518.cms\" pg=\"-sports/cricket/ipl/top-stories#Story_View-1-geturl\" title=\"KKR need to rejig batting order as they face CSK\"><img alt=\"KKR need to rejig batting order as they face CSK\" data-src=\"https://static.toiimg.com/thumb/imgsize-72680,msid-78532632,width-150,resizemode-4/78532632.jpg\" pg=\"-sports/cricket/ipl/top-stories#Story_View-1-geturl\" src=\"https://static.toiimg.com/photo/34824568.cms\"/><i class=\"iconvideo\"></i></a>,\n",
       " <a class=\"w_img\" href=\"/sports/tennis/french-open/petra-kvitova-back-in-roland-garros-semi-finals-after-eight-years/articleshow/78534686.cms\" pg=\"-sports/tennis/french-open#Story_View-2-geturl\" title=\"Kvitova back in Roland Garros semis after 8 years\"><img alt=\"Kvitova back in Roland Garros semis after 8 years\" data-src=\"https://static.toiimg.com/thumb/imgsize-43572,msid-78534684,width-150,resizemode-4/78534684.jpg\" pg=\"-sports/tennis/french-open#Story_View-2-geturl\" src=\"https://static.toiimg.com/photo/34824568.cms\"/></a>,\n",
       " <a class=\"w_img\" href=\"/sports/cricket/ipl/top-stories/rahul-shouldnt-be-bothered-with-wicket-keeping-in-indian-team-feels-lara/articleshow/78532034.cms\" pg=\"-sports/cricket/ipl/top-stories#Story_View-3-geturl\" title=\"Rahul shouldn't be wicketkeeping in the Indian team: Lara\"><img alt=\"Rahul shouldn't be wicketkeeping in the Indian team: Lara\" data-src=\"https://static.toiimg.com/thumb/imgsize-60631,msid-78532964,width-150,resizemode-4/78532964.jpg\" pg=\"-sports/cricket/ipl/top-stories#Story_View-3-geturl\" src=\"https://static.toiimg.com/photo/34824568.cms\"/></a>,\n",
       " <a class=\"w_img\" href=\"/sports/cricket/ipl/top-stories/watch-hathiyaar-taiyaar-nitish-rana-saws-off-the-top-of-his-bat-handles-ahead-of-csk-clash/articleshow/78534489.cms\" pg=\"-sports/cricket/ipl/top-stories#Story_View-4-geturl\" title=\"Watch: Nitish saws off the top of his bat handles\"><img alt=\"Watch: Nitish saws off the top of his bat handles\" data-src=\"https://static.toiimg.com/thumb/imgsize-78575,msid-78534491,width-150,resizemode-4/78534491.jpg\" pg=\"-sports/cricket/ipl/top-stories#Story_View-4-geturl\" src=\"https://static.toiimg.com/photo/34824568.cms\"/></a>,\n",
       " <a class=\"w_img\" href=\"/sports/cricket/ipl/top-stories/ipl-2020-tendulkar-hails-bumrahs-exceptional-bowling-against-rajasthan-royals/articleshow/78533665.cms\" pg=\"-sports/cricket/ipl/top-stories#Story_View-5-geturl\" title=\"IPL: Tendulkar hails Bumrah's 'exceptional' bowling\"><img alt=\"IPL: Tendulkar hails Bumrah's 'exceptional' bowling\" data-src=\"https://static.toiimg.com/thumb/imgsize-135888,msid-78534843,width-150,resizemode-4/78534843.jpg\" pg=\"-sports/cricket/ipl/top-stories#Story_View-5-geturl\" src=\"https://static.toiimg.com/photo/34824568.cms\"/></a>,\n",
       " <a class=\"w_img\" href=\"/entertainment/hindi/bollywood/news/sushant-singh-rajput-case-live-updates-rhea-chakraborty-bail-plea-bollywood-drug-probe/liveblog/78527319.cms\" pg=\"-entertainment/hindi/bollywood/news#Story_View-1-geturl\" title=\"Live: Rhea leaves Byculla Jail after bail in drugs case\"><img alt=\"Live: Rhea leaves Byculla Jail after bail in drugs case\" data-src=\"https://static.toiimg.com/thumb/imgsize-40615,msid-78527319,width-141,resizemode-4/78527319.jpg\" pg=\"-entertainment/hindi/bollywood/news#Story_View-1-geturl\" src=\"https://static.toiimg.com/photo/34824568.cms\"/></a>,\n",
       " <a class=\"w_img\" href=\"/india/india-japan-finalise-pact-for-cooperation-in-5g-tech-ai-and-critical-information-infra/articleshow/78533793.cms\" pg=\"-india#Story_View-2-geturl\" title=\"India, Japan set to work on 5G tech amid global snub to China's Huawei\"><img alt=\"India, Japan set to work on 5G tech amid global snub to China's Huawei\" data-src=\"https://static.toiimg.com/thumb/imgsize-118124,msid-78534093,width-141,resizemode-4/78534093.jpg\" pg=\"-india#Story_View-2-geturl\" src=\"https://static.toiimg.com/photo/34824568.cms\"/></a>,\n",
       " <a class=\"w_img\" href=\"/home/science/where-are-we-in-the-covid-19-vaccine-race/articleshow/78533016.cms\" pg=\"-science#Story_View-3-geturl\" title=\"Where are we in the Covid-19 vaccine race?\"><img alt=\"Where are we in the Covid-19 vaccine race?\" data-src=\"https://static.toiimg.com/thumb/imgsize-110659,msid-78533201,width-141,resizemode-4/78533201.jpg\" pg=\"-science#Story_View-3-geturl\" src=\"https://static.toiimg.com/photo/34824568.cms\"/></a>,\n",
       " <a class=\"w_img\" href=\"/world/us/new-h-1b-rules-a-month-before-elections-trump-admin-does-a-surgical-strike-wage-parameters-hiked-and-visa-norms-tightened/articleshow/78530104.cms\" pg=\"-world/us#Story_View-4-geturl\" title=\"Trump does 'surgical strike' on H-1B visas\"><img alt=\"Trump does 'surgical strike' on H-1B visas\" data-src=\"https://static.toiimg.com/thumb/imgsize-58300,msid-78528198,width-141,resizemode-4/78528198.jpg\" pg=\"-world/us#Story_View-4-geturl\" src=\"https://static.toiimg.com/photo/34824568.cms\"/><i class=\"iconvideo\"></i></a>,\n",
       " <a class=\"w_img\" href=\"/india/nobel-prize-in-chemistry-awarded-to-emmanuelle-charpentier-and-jennifer-a-doudna/articleshow/78532571.cms\" pg=\"-india#Story_View-5-geturl\" title=\"Duo get Chemistry Nobel for genome editing\"><img alt=\"Duo get Chemistry Nobel for genome editing\" data-src=\"https://static.toiimg.com/thumb/imgsize-403493,msid-78533210,width-141,resizemode-4/78533210.jpg\" pg=\"-india#Story_View-5-geturl\" src=\"https://static.toiimg.com/photo/34824568.cms\"/><i class=\"iconvideo\"></i></a>,\n",
       " <a class=\"w_img\" href=\"https://timesofindia.indiatimes.com/etimes/moodsofprime\" pg=\"-top-headlines#Story_View-6-geturl\" title=\"Advt: What to watch? Something for every mood!\"><img alt=\"Advt: What to watch? Something for every mood!\" data-src=\"https://static.toiimg.com/thumb/imgsize-140787,msid-78490872,width-141,resizemode-4/78490872.jpg\" pg=\"-top-headlines#Story_View-6-geturl\" src=\"https://static.toiimg.com/photo/34824568.cms\"/></a>,\n",
       " <a class=\"w_img\" href=\"/india/no-person-or-group-of-persons-can-block-public-places-to-express-dissent-sc-on-shaheen-bagh-protests/articleshow/78528034.cms\" pg=\"-india#Story_View-7-geturl\" title=\"Can't block public places to express dissent: SC\"><img alt=\"Can't block public places to express dissent: SC\" data-src=\"https://static.toiimg.com/thumb/imgsize-846863,msid-78529727,width-141,resizemode-4/78529727.jpg\" pg=\"-india#Story_View-7-geturl\" src=\"https://static.toiimg.com/photo/34824568.cms\"/><i class=\"iconvideo\"></i></a>,\n",
       " <a class=\"w_img\" href=\"/india/how-tamil-commentary-is-getting-new-ipl-fans/articleshow/78513593.cms\" pg=\"-india#Story_View-8-geturl\" title=\"How Tamil commentary is getting new IPL fans\"><img alt=\"How Tamil commentary is getting new IPL fans\" data-src=\"https://static.toiimg.com/thumb/imgsize-221351,msid-78513759,width-141,resizemode-4/78513759.jpg\" pg=\"-india#Story_View-8-geturl\" src=\"https://static.toiimg.com/photo/34824568.cms\"/><i class=\"icon_prime\"></i></a>,\n",
       " <a class=\"w_img\" href=\"/india/coronavirus-live-updates-06-oct-2020/liveblog/78505098.cms\" pg=\"-india#Story_View-9-geturl\" title=\"Live: Govt to launch campaign against Covid\"><img alt=\"Live: Govt to launch campaign against Covid\" data-src=\"https://static.toiimg.com/thumb/imgsize-113647,msid-78505098,width-141,resizemode-4/78505098.jpg\" pg=\"-india#Story_View-9-geturl\" src=\"https://static.toiimg.com/photo/34824568.cms\"/></a>,\n",
       " <a class=\"w_img\" href=\"/city/delhi/ncw-summons-bjp-leader-ranjeet-srivastava-for-offensive-remarks-against-hathras-victim/articleshow/78533822.cms\" pg=\"-city/delhi#Story_View-10-geturl\" title=\"NCW summons BJP leader for ‘offensive remarks’\"><img alt=\"NCW summons BJP leader for ‘offensive remarks’\" data-src=\"https://static.toiimg.com/thumb/imgsize-412652,msid-78534086,width-141,resizemode-4/78534086.jpg\" pg=\"-city/delhi#Story_View-10-geturl\" src=\"https://static.toiimg.com/photo/34824568.cms\"/></a>,\n",
       " <a class=\"w_img\" href=\"/business/india-business/at-41-million-real-time-transactions-a-day-india-leads-the-world-report/articleshow/78534784.cms\" pg=\"-business/india-business#Story_View-11-geturl\" title=\"'India leads in real-time financial transactions'\"><img alt=\"'India leads in real-time financial transactions'\" data-src=\"https://static.toiimg.com/thumb/imgsize-404212,msid-78534763,width-141,resizemode-4/78534763.jpg\" pg=\"-business/india-business#Story_View-11-geturl\" src=\"https://static.toiimg.com/photo/34824568.cms\"/></a>,\n",
       " <a class=\"w_img\" href=\"https://www.gadgetsnow.com/slideshows/google-changes-logos-of-gmail-hangouts-gmeet-and-more-heres-how-they-look-now/photolist/78526348.cms\" pg=\"-TOI-Main-stories#Story_View-12-geturl\" rel=\"nofollow\" title=\"Google changes logos of GMail, Hangout\"><img alt=\"Google changes logos of GMail, Hangout\" data-src=\"https://static.toiimg.com/thumb/imgsize-384442,msid-78527236,width-141,resizemode-4/78527236.jpg\" pg=\"-TOI-Main-stories#Story_View-12-geturl\" src=\"https://static.toiimg.com/photo/34824568.cms\"/></a>,\n",
       " <a class=\"w_img\" href=\"https://www.gadgetsnow.com/tech-news/this-is-googles-new-plan-to-take-on-microsoft-office/articleshow/78533494.cms\" pg=\"-https/www-gadgetsnow-com/tech-news/this-is-googles-new-plan-to-take-on-microsoft-office/articleshow#Story_View-13-geturl\" rel=\"nofollow\" title=\"Google's new plan to take on Microsoft Office\"><img alt=\"Google's new plan to take on Microsoft Office\" data-src=\"https://static.toiimg.com/thumb/imgsize-98437,msid-78533551,width-141,resizemode-4/78533551.jpg\" pg=\"-https/www-gadgetsnow-com/tech-news/this-is-googles-new-plan-to-take-on-microsoft-office/articleshow#Story_View-13-geturl\" src=\"https://static.toiimg.com/photo/34824568.cms\"/></a>,\n",
       " <a class=\"w_img\" href=\"/city/kolkata/cabinet-approves-revised-cost-for-kolkata-east-west-metro-corridor-project/articleshow/78534249.cms\" pg=\"-city/kolkata#Story_View-14-geturl\" title=\"Cabinet approves revised cost of Kolkata metro\"><img alt=\"Cabinet approves revised cost of Kolkata metro\" data-src=\"https://static.toiimg.com/thumb/imgsize-28778,msid-78534336,width-141,resizemode-4/78534336.jpg\" pg=\"-city/kolkata#Story_View-14-geturl\" src=\"https://static.toiimg.com/photo/34824568.cms\"/></a>,\n",
       " <a class=\"w_img\" href=\"/city/noida/noida-airport-to-have-one-runway-and-90-per-cent-domestic-traffic-initially-zurich-airport-official/articleshow/78533214.cms\" pg=\"-city/noida#Story_View-15-geturl\" title=\"'Noida airport to have one runway'\"><img alt=\"'Noida airport to have one runway'\" data-src=\"https://static.toiimg.com/thumb/imgsize-590258,msid-78533273,width-141,resizemode-4/78533273.jpg\" pg=\"-city/noida#Story_View-15-geturl\" src=\"https://static.toiimg.com/photo/34824568.cms\"/></a>,\n",
       " <a class=\"w_img\" href=\"https://www.gadgetsnow.com/tech-news/some-businesses-are-under-assault-by-apple-says-facebook/articleshow/78526329.cms\" pg=\"-TOI-Main-stories#Story_View-16-geturl\" rel=\"nofollow\" title=\"Some businesses are under ‘assault’ by Apple: FB\"><img alt=\"Some businesses are under ‘assault’ by Apple: FB\" data-src=\"https://static.toiimg.com/thumb/imgsize-534930,msid-78526623,width-141,resizemode-4/78526623.jpg\" pg=\"-TOI-Main-stories#Story_View-16-geturl\" src=\"https://static.toiimg.com/photo/34824568.cms\"/></a>,\n",
       " <a class=\"w_img\" href=\"/auto/news/the-worlds-biggest-oil-trader-wants-to-buy-your-used-car/articleshow/78526879.cms\" pg=\"-auto/news#Story_View-17-geturl\" title=\"World’s biggest oil trader wants to buy used car\"><img alt=\"World’s biggest oil trader wants to buy used car\" data-src=\"https://static.toiimg.com/thumb/imgsize-262370,msid-78533823,width-141,resizemode-4/78533823.jpg\" pg=\"-auto/news#Story_View-17-geturl\" src=\"https://static.toiimg.com/photo/34824568.cms\"/><i class=\"iconvideo\"></i></a>,\n",
       " <a class=\"w_img\" href=\"/business/india-business/times-network-expands-its-global-footprint-launches-times-now-times-now-world-et-now-mirror-now-and-zoom-on-onehubtv/articleshow/77994407.cms\" pg=\"-business/india-business#Story_View-18-geturl\" title=\"Times Network expands its global footprint\"><img alt=\"Times Network expands its global footprint\" data-src=\"https://static.toiimg.com/thumb/imgsize-445866,msid-77994407,width-141,resizemode-4/77994407.jpg\" pg=\"-business/india-business#Story_View-18-geturl\" src=\"https://static.toiimg.com/photo/34824568.cms\"/></a>,\n",
       " <a class=\"w_img\" href=\"/sports/cricket/news/family-bid-farewell-to-australian-great-jones-with-lap-of-mcg/articleshow/78531680.cms\" pg=\"-sports/cricket/news#Story_View-19-geturl\" title=\"Family bid farewell to Dean Jones with lap of MCG\"><img alt=\"Family bid farewell to Dean Jones with lap of MCG\" data-src=\"https://static.toiimg.com/thumb/imgsize-59619,msid-78532458,width-141,resizemode-4/78532458.jpg\" pg=\"-sports/cricket/news#Story_View-19-geturl\" src=\"https://static.toiimg.com/photo/34824568.cms\"/></a>,\n",
       " <a class=\"w_img\" href=\"/sports/cricket/ipl/top-stories/ipl-2020-kkr-need-to-rejig-batting-order-as-they-take-on-csk/articleshow/78526518.cms\" pg=\"-sports/cricket/ipl/top-stories#Story_View-20-geturl\" title=\"IPL: KKR need to rejig batting order vs CSK\"><img alt=\"IPL: KKR need to rejig batting order vs CSK\" data-src=\"https://static.toiimg.com/thumb/imgsize-72680,msid-78532632,width-141,resizemode-4/78532632.jpg\" pg=\"-sports/cricket/ipl/top-stories#Story_View-20-geturl\" src=\"https://static.toiimg.com/photo/34824568.cms\"/><i class=\"iconvideo\"></i></a>]"
      ]
     },
     "execution_count": 205,
     "metadata": {},
     "output_type": "execute_result"
    }
   ],
   "source": [
    "s "
   ]
  },
  {
   "cell_type": "code",
   "execution_count": null,
   "metadata": {},
   "outputs": [],
   "source": []
  },
  {
   "cell_type": "code",
   "execution_count": 166,
   "metadata": {},
   "outputs": [],
   "source": [
    "lst1 = []\n",
    "lst2 = []\n",
    "for i in s:\n",
    "    lst1.append(i[\"title\"])\n",
    "    lst2.append(i[\"href\"])\n",
    "rec = dict(list(zip(lst1,lst2)))"
   ]
  },
  {
   "cell_type": "code",
   "execution_count": 167,
   "metadata": {},
   "outputs": [
    {
     "data": {
      "text/plain": [
       "{'Sushant Singh Rajput case live updates': '/entertainment/hindi/bollywood/news/sushant-singh-rajput-case-live-updates-aiims-doctor-sudhir-guptas-leaked-audio-tape-raises-doubts-over-suicide-theory/liveblog/78488000.cms',\n",
       " \"'Jurassic World: Dominion' to release in 2022\": '/entertainment/english/hollywood/news/jurassic-world-dominion-release-date-shifted-to-hit-the-theatres-in-june-2022/articleshow/78525361.cms',\n",
       " 'Did Shawn just confirm a collab with Justin?': '/entertainment/english/music/news/did-shawn-mendes-just-confirm-a-collaboration-with-just-bieber-details-inside/articleshow/78525221.cms',\n",
       " 'CBI to summon witness who saw SSR-Rhea meet': '/entertainment/hindi/bollywood/news/sushant-singh-rajput-case-cbi-to-summon-the-witness-who-saw-ssr-meeting-rhea-chakraborty-on-june-13/articleshow/78524667.cms',\n",
       " 'Video: Salman Khan remembers composer Wajid': '/entertainment/hindi/bollywood/news/video-salman-khan-sohail-khan-and-sajid-khan-remember-wajid-khan-on-his-birth-anniversary/articleshow/78524387.cms',\n",
       " 'Donald Trump turns the knife in, H-1B workers say deja vu': '/business/international-business/donald-trump-turns-the-knife-in-h-1b-workers-say-deja-vu/articleshow/78525627.cms',\n",
       " 'GST meet: Voting on borrowing options unlikely': '/business/india-business/gst-meet-voting-on-borrowing-options-unlikely/articleshow/78525422.cms',\n",
       " 'US stocks tumble as Trump scotches stimulus talks': '/business/international-business/us-stocks-tumble-as-trump-scotches-stimulus-talks/articleshow/78525554.cms',\n",
       " 'How Big Tech companies gain and maintain dominance': '/business/international-business/us-house-report-how-amazon-apple-facebook-google-gain-and-maintain-dominance/articleshow/78525733.cms',\n",
       " 'India approves 16 cos for Rs 10.5L cr smartphone plan': '/business/india-business/india-approves-16-companies-including-top-apple-suppliers-for-rs-10-5-lakh-crore-smartphone-plan/articleshow/78520519.cms',\n",
       " 'Choti Sardarni: Meher learns about Param': '/tv/news/hindi/choti-sardarni-update-october-6-meher-and-sarab-learn-param-got-kidnapped/articleshow/78518260.cms',\n",
       " 'Anushka: Intense roles gives me happiness': '/tv/news/hindi/anushka-sen-doing-intense-roles-gives-me-more-happiness-than-playing-glamorous-characters/articleshow/78509849.cms',\n",
       " 'Ashi Singh on not doing a saas-bahu show': '/tv/news/hindi/i-cant-do-a-saas-bahu-show-as-usmein-bahot-rona-hota-hai-ashi-singh/articleshow/78519430.cms',\n",
       " 'TMKOC: Gokuldham wasis get Covid-19 reports': '/tv/news/hindi/taarak-mehta-ka-ooltah-chashmah-update-october-6-gokuldham-wasis-test-corona-negative/articleshow/78519982.cms',\n",
       " \"BB14: Nishant's co-star Kanika supports him\": '/tv/news/hindi/bigg-boss-14-nishant-singh-malkhanis-guddan-tumse-na-ho-payega-co-star-kanika-mann-wishes-for-his-longer-stay-inside-the-house/articleshow/78519749.cms',\n",
       " 'IPL: Suryakumar, Bumrah fire Mumbai Indians to third straight win': '/sports/cricket/ipl/top-stories/mi-vs-rr-suryakumar-bumrah-fire-mumbai-indians-to-third-straight-win/articleshow/78521941.cms',\n",
       " \"Suryakumar's shot-making was perfect: Rohit\": '/sports/cricket/ipl/top-stories/mi-vs-rr-suryakumar-yadavs-shot-making-was-perfect-says-rohit-sharma/articleshow/78525692.cms',\n",
       " \"'India's first Test in Oz at Adelaide from Dec 17'\": '/sports/cricket/news/indias-opening-test-in-australia-at-adelaide-from-december-17-report/articleshow/78521914.cms',\n",
       " \"Bumrah features in Watson's top-5 T20 bowlers list\": '/sports/cricket/ipl/top-stories/bumrah-features-in-watsons-top-5-all-time-t20-bowlers-list/articleshow/78518162.cms',\n",
       " 'IPL: Anukul Roy takes a blinder to dismiss Lomror': '/sports/cricket/ipl/top-stories/ipl-2020-anukul-roy-takes-a-blinder-to-dismiss-mahipal-lomror/articleshow/78521485.cms',\n",
       " 'UP seeks SC-monitored CBI inquiry into Hathras case': '/india/up-seeks-sc-monitored-cbi-inquiry-into-hathras-case/articleshow/78523831.cms',\n",
       " 'BJP backs Nitish in Bihar, snubs LJP': '/elections/assembly-elections/bihar-assembly-elections-2020/bjp-backs-nitish-in-bihar-snubs-ljp/articleshow/78524413.cms',\n",
       " \"Covid-19: India's positivity rate drops to 6.8%\": '/india/positivity-rate-drops-to-6-8-amid-80-lakh-tests-in-a-week/articleshow/78524205.cms',\n",
       " 'US attacks Chinese adventurism at Quad meet': '/india/quad-us-corners-china-india-and-others-more-discreet/articleshow/78520911.cms',\n",
       " 'On this issue, Maoist & govt are on same page': '/india/on-one-issue-maoist-and-govt-are-on-the-same-page/articleshow/78488907.cms',\n",
       " \"Live: '48% Covid deaths from 25 dists in 8 states'\": '/india/coronavirus-live-updates-06-oct-2020/liveblog/78505098.cms',\n",
       " \"'Hathras accused, girl’s kin were in regular touch’\": '/city/lucknow/up-did-hathras-case-accused-victims-kin-talk-on-the-phone-100-times-in-3-months/articleshow/78519276.cms',\n",
       " 'Modi enters 20th year in public office sans break': '/india/modi-enters-20th-year-in-public-office-sans-break/articleshow/78524473.cms',\n",
       " 'Trump admin to sharply limit skilled-worker visas': '/world/us/trump-administration-to-sharply-limit-skilled-worker-visas/articleshow/78525010.cms',\n",
       " \"Why JD(U) and LJP couldn't be in same alliance\": '/elections/assembly-elections/bihar-assembly-elections-2020/bihar-assembly-elections-can-chirag-paswans-ljp-spoil-nitish-kumars-game/articleshow/78509639.cms',\n",
       " 'No touching, idols, holy books: Festive season SOP': '/india/no-touching-of-idols-or-holy-books-says-govt-sop-ahead-of-festive-season/articleshow/78524618.cms',\n",
       " 'Apple to launch iPhone 12 on October 13': 'https://www.gadgetsnow.com/mobiles/apple-sends-out-invites-for-the-launch-of-iphone-12/articleshow/78519619.cms',\n",
       " \"Rhea's bail plea: HC to pronounce order today\": '/entertainment/hindi/bollywood/news/high-court-to-pronounce-decision-on-rheas-bail-plea-tomorrow/articleshow/78520300.cms',\n",
       " 'Bihar: BJP discards likely to cross over to LJP': '/elections/assembly-elections/bihar-assembly-elections-2020/bihar-elections-saffron-discards-likely-to-cross-over-to-ljp-camp/articleshow/78524727.cms',\n",
       " 'Suryakumar, Bumrah fire MI to third straight win': '/sports/cricket/ipl/top-stories/mi-vs-rr-suryakumar-bumrah-fire-mumbai-indians-to-third-straight-win/articleshow/78521941.cms',\n",
       " \"'Cong's G-23 signatories stand by reforms demand'\": '/india/g-23-signatories-stand-by-reforms-demand-congress-manish-tewari/articleshow/78525204.cms',\n",
       " 'ED arrests CFO & internal auditor of Cox & Kings': '/business/india-business/ed-arrests-cfo-internal-auditor-of-cox-kings/articleshow/78524781.cms',\n",
       " 'Advt: Binge on shows that suit your mood': 'https://timesofindia.indiatimes.com/etimes/moodsofprime',\n",
       " 'India clears 16 firms for Rs 10.5L cr phone plan': '/business/india-business/india-approves-16-companies-including-top-apple-suppliers-for-rs-10-5-lakh-crore-smartphone-plan/articleshow/78520519.cms'}"
      ]
     },
     "execution_count": 167,
     "metadata": {},
     "output_type": "execute_result"
    }
   ],
   "source": [
    "rec"
   ]
  },
  {
   "cell_type": "code",
   "execution_count": 198,
   "metadata": {},
   "outputs": [],
   "source": [
    "lst3 = []\n",
    "lst4 = []\n",
    "dic1 = {}\n",
    "dic2 = {}\n",
    "for i in s:\n",
    "    dic1[\"Title\"] = i[\"title\"]\n",
    "    dic1[\"link\"] = \"https://timesofindia.indiatimes.com\"+i[\"href\"]\n",
    "    dictionary_copy = dic1.copy()\n",
    "    lst3.append(dictionary_copy)\n",
    "    "
   ]
  },
  {
   "cell_type": "code",
   "execution_count": 204,
   "metadata": {},
   "outputs": [
    {
     "name": "stdout",
     "output_type": "stream",
     "text": [
      "{'Title': 'Highlights of Rhea Chakraborty’s bail order', 'link': 'https://timesofindia.indiatimes.com/entertainment/hindi/bollywood/news/highlights-of-rhea-chakrabortys-bail-order/photostory/78534006.cms'}\n",
      "{'Title': 'Payal to withdraw statement against Richa', 'link': 'https://timesofindia.indiatimes.com/entertainment/hindi/bollywood/news/payal-ghosh-to-tender-apology-and-withdraw-statement-against-richa-chadha/articleshow/78533878.cms'}\n",
      "{'Title': 'Neeraj Kabi: Still fighting for remuneration', 'link': 'https://timesofindia.indiatimes.com/entertainment/hindi/bollywood/news/neeraj-kabi-exclusive-how-i-made-it/articleshow/78527260.cms'}\n",
      "{'Title': '9 conditions pronounced for Rhea by the HC', 'link': 'https://timesofindia.indiatimes.com/entertainment/hindi/bollywood/news/9-conditions-pronounced-for-rhea-chakraborty-by-the-high-court-while-granting-her-bail-in-drugs-case/articleshow/78532432.cms'}\n",
      "{'Title': 'Swara takes an indirect dig at Kangana', 'link': 'https://timesofindia.indiatimes.com/entertainment/hindi/bollywood/news/swara-bhasker-takes-an-indirect-dig-at-kangana-ranauts-padma-shri-statement-after-aiims-rules-out-murder-in-sushant-singh-rajputs-case/articleshow/78531976.cms'}\n",
      "{'Title': 'At 41 million real-time transactions a day, India leads the world: Report', 'link': 'https://timesofindia.indiatimes.com/business/india-business/at-41-million-real-time-transactions-a-day-india-leads-the-world-report/articleshow/78534784.cms'}\n",
      "{'Title': \"States' mkt borrowings jump 55% to Rs 3.75 lakh crore\", 'link': 'https://timesofindia.indiatimes.com/business/india-business/states-market-borrowings-jump-55-to-rs-3-75-lakh-crore-so-far-this-fiscal/articleshow/78534277.cms'}\n",
      "{'Title': 'Sensex rallies 304 points; Nifty ends above 11,700', 'link': 'https://timesofindia.indiatimes.com/business/india-business/sensex-rallies-304-points-nifty-ends-above-11700/articleshow/78532545.cms'}\n",
      "{'Title': 'Banks say interest waiver will add to costs, spark litigation', 'link': 'https://timesofindia.indiatimes.com/business/india-business/banks-say-governments-interest-waiver-will-add-to-costs-spark-litigation/articleshow/78530227.cms'}\n",
      "{'Title': \"H-1B visas only for 'specialised talent': White House\", 'link': 'https://timesofindia.indiatimes.com/business/international-business/h-1b-visas-should-be-reserved-only-for-specialised-talent-to-support-strong-economy-white-house/articleshow/78531537.cms'}\n",
      "{'Title': \"Watch Niti Taylor's Mehendi ceremony\", 'link': 'https://timesofindia.indiatimes.com/tv/news/hindi/new-bride-niti-taylor-shares-a-throwback-video-from-her-mehendi-ceremony-watch/articleshow/78534122.cms'}\n",
      "{'Title': 'Mukesh Khanna lashes out at Gajendra Chauhan', 'link': 'https://timesofindia.indiatimes.com/tv/news/hindi/mukesh-khanna-hits-out-at-yudhishtir-gajendra-chauhan-asks-how-can-you-compare-mahabharat-to-the-kapil-sharma-show/articleshow/78534253.cms'}\n",
      "{'Title': \"Was Rohanpreet Singh Shehnaz's suitor in MSK?\", 'link': 'https://timesofindia.indiatimes.com/tv/news/hindi/did-you-know-neha-kakars-rumoured-fiance-rohanpreet-singh-was-shehnaz-gills-suitor-in-mujhse-shaadi-karoge/articleshow/78532624.cms'}\n",
      "{'Title': 'BB14: Pavitra hits Nikki during immunity task', 'link': 'https://timesofindia.indiatimes.com/tv/news/hindi/bigg-boss-14-pavitra-punia-hits-nikki-tamboli-with-a-tray-after-she-ruins-her-game-during-immunity-task/articleshow/78532198.cms'}\n",
      "{'Title': 'Sapna Chaudhary blessed with a baby boy', 'link': 'https://timesofindia.indiatimes.com/tv/news/hindi/bigg-boss-11s-sapna-chaudhary-blessed-with-a-baby-boy-husband-veer-sahu-abuses-those-judging-his-wifes-character/articleshow/78530131.cms'}\n",
      "{'Title': 'KKR need to rejig batting order as they face CSK', 'link': 'https://timesofindia.indiatimes.com/sports/cricket/ipl/top-stories/ipl-2020-kkr-need-to-rejig-batting-order-as-they-take-on-csk/articleshow/78526518.cms'}\n",
      "{'Title': 'Kvitova back in Roland Garros semis after 8 years', 'link': 'https://timesofindia.indiatimes.com/sports/tennis/french-open/petra-kvitova-back-in-roland-garros-semi-finals-after-eight-years/articleshow/78534686.cms'}\n",
      "{'Title': \"Rahul shouldn't be wicketkeeping in the Indian team: Lara\", 'link': 'https://timesofindia.indiatimes.com/sports/cricket/ipl/top-stories/rahul-shouldnt-be-bothered-with-wicket-keeping-in-indian-team-feels-lara/articleshow/78532034.cms'}\n",
      "{'Title': 'Watch: Nitish saws off the top of his bat handles', 'link': 'https://timesofindia.indiatimes.com/sports/cricket/ipl/top-stories/watch-hathiyaar-taiyaar-nitish-rana-saws-off-the-top-of-his-bat-handles-ahead-of-csk-clash/articleshow/78534489.cms'}\n",
      "{'Title': \"IPL: Tendulkar hails Bumrah's 'exceptional' bowling\", 'link': 'https://timesofindia.indiatimes.com/sports/cricket/ipl/top-stories/ipl-2020-tendulkar-hails-bumrahs-exceptional-bowling-against-rajasthan-royals/articleshow/78533665.cms'}\n",
      "{'Title': 'Live: Rhea leaves Byculla Jail after bail in drugs case', 'link': 'https://timesofindia.indiatimes.com/entertainment/hindi/bollywood/news/sushant-singh-rajput-case-live-updates-rhea-chakraborty-bail-plea-bollywood-drug-probe/liveblog/78527319.cms'}\n",
      "{'Title': \"India, Japan set to work on 5G tech amid global snub to China's Huawei\", 'link': 'https://timesofindia.indiatimes.com/india/india-japan-finalise-pact-for-cooperation-in-5g-tech-ai-and-critical-information-infra/articleshow/78533793.cms'}\n",
      "{'Title': 'Where are we in the Covid-19 vaccine race?', 'link': 'https://timesofindia.indiatimes.com/home/science/where-are-we-in-the-covid-19-vaccine-race/articleshow/78533016.cms'}\n",
      "{'Title': \"Trump does 'surgical strike' on H-1B visas\", 'link': 'https://timesofindia.indiatimes.com/world/us/new-h-1b-rules-a-month-before-elections-trump-admin-does-a-surgical-strike-wage-parameters-hiked-and-visa-norms-tightened/articleshow/78530104.cms'}\n",
      "{'Title': 'Duo get Chemistry Nobel for genome editing', 'link': 'https://timesofindia.indiatimes.com/india/nobel-prize-in-chemistry-awarded-to-emmanuelle-charpentier-and-jennifer-a-doudna/articleshow/78532571.cms'}\n",
      "{'Title': 'Advt: What to watch? Something for every mood!', 'link': 'https://timesofindia.indiatimes.comhttps://timesofindia.indiatimes.com/etimes/moodsofprime'}\n",
      "{'Title': \"Can't block public places to express dissent: SC\", 'link': 'https://timesofindia.indiatimes.com/india/no-person-or-group-of-persons-can-block-public-places-to-express-dissent-sc-on-shaheen-bagh-protests/articleshow/78528034.cms'}\n",
      "{'Title': 'How Tamil commentary is getting new IPL fans', 'link': 'https://timesofindia.indiatimes.com/india/how-tamil-commentary-is-getting-new-ipl-fans/articleshow/78513593.cms'}\n",
      "{'Title': 'Live: Govt to launch campaign against Covid', 'link': 'https://timesofindia.indiatimes.com/india/coronavirus-live-updates-06-oct-2020/liveblog/78505098.cms'}\n",
      "{'Title': 'NCW summons BJP leader for ‘offensive remarks’', 'link': 'https://timesofindia.indiatimes.com/city/delhi/ncw-summons-bjp-leader-ranjeet-srivastava-for-offensive-remarks-against-hathras-victim/articleshow/78533822.cms'}\n",
      "{'Title': \"'India leads in real-time financial transactions'\", 'link': 'https://timesofindia.indiatimes.com/business/india-business/at-41-million-real-time-transactions-a-day-india-leads-the-world-report/articleshow/78534784.cms'}\n",
      "{'Title': 'Google changes logos of GMail, Hangout', 'link': 'https://timesofindia.indiatimes.comhttps://www.gadgetsnow.com/slideshows/google-changes-logos-of-gmail-hangouts-gmeet-and-more-heres-how-they-look-now/photolist/78526348.cms'}\n",
      "{'Title': \"Google's new plan to take on Microsoft Office\", 'link': 'https://timesofindia.indiatimes.comhttps://www.gadgetsnow.com/tech-news/this-is-googles-new-plan-to-take-on-microsoft-office/articleshow/78533494.cms'}\n",
      "{'Title': 'Cabinet approves revised cost of Kolkata metro', 'link': 'https://timesofindia.indiatimes.com/city/kolkata/cabinet-approves-revised-cost-for-kolkata-east-west-metro-corridor-project/articleshow/78534249.cms'}\n",
      "{'Title': \"'Noida airport to have one runway'\", 'link': 'https://timesofindia.indiatimes.com/city/noida/noida-airport-to-have-one-runway-and-90-per-cent-domestic-traffic-initially-zurich-airport-official/articleshow/78533214.cms'}\n",
      "{'Title': 'Some businesses are under ‘assault’ by Apple: FB', 'link': 'https://timesofindia.indiatimes.comhttps://www.gadgetsnow.com/tech-news/some-businesses-are-under-assault-by-apple-says-facebook/articleshow/78526329.cms'}\n",
      "{'Title': 'World’s biggest oil trader wants to buy used car', 'link': 'https://timesofindia.indiatimes.com/auto/news/the-worlds-biggest-oil-trader-wants-to-buy-your-used-car/articleshow/78526879.cms'}\n",
      "{'Title': 'Times Network expands its global footprint', 'link': 'https://timesofindia.indiatimes.com/business/india-business/times-network-expands-its-global-footprint-launches-times-now-times-now-world-et-now-mirror-now-and-zoom-on-onehubtv/articleshow/77994407.cms'}\n",
      "{'Title': 'Family bid farewell to Dean Jones with lap of MCG', 'link': 'https://timesofindia.indiatimes.com/sports/cricket/news/family-bid-farewell-to-australian-great-jones-with-lap-of-mcg/articleshow/78531680.cms'}\n",
      "{'Title': 'IPL: KKR need to rejig batting order vs CSK', 'link': 'https://timesofindia.indiatimes.com/sports/cricket/ipl/top-stories/ipl-2020-kkr-need-to-rejig-batting-order-as-they-take-on-csk/articleshow/78526518.cms'}\n"
     ]
    }
   ],
   "source": [
    "for i in lst3:\n",
    "    print(i)"
   ]
  },
  {
   "cell_type": "code",
   "execution_count": null,
   "metadata": {},
   "outputs": [],
   "source": []
  }
 ],
 "metadata": {
  "kernelspec": {
   "display_name": "Python 3",
   "language": "python",
   "name": "python3"
  },
  "language_info": {
   "codemirror_mode": {
    "name": "ipython",
    "version": 3
   },
   "file_extension": ".py",
   "mimetype": "text/x-python",
   "name": "python",
   "nbconvert_exporter": "python",
   "pygments_lexer": "ipython3",
   "version": "3.8.5"
  }
 },
 "nbformat": 4,
 "nbformat_minor": 4
}
